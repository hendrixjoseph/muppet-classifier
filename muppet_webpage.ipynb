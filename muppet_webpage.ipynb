{
 "cells": [
  {
   "cell_type": "code",
   "execution_count": null,
   "metadata": {
    "id": "Im8SGF_o19e9"
   },
   "outputs": [],
   "source": [
    "from fastai.vision.all import *\n",
    "from fastai.vision.widgets import *"
   ]
  },
  {
   "cell_type": "code",
   "execution_count": null,
   "metadata": {
    "id": "zG8gmQ8JIl_W"
   },
   "outputs": [],
   "source": [
    "def grandparent_label(o):\n",
    "    return Path(o).parent.parent.name"
   ]
  },
  {
   "cell_type": "code",
   "execution_count": null,
   "metadata": {},
   "outputs": [],
   "source": [
    "#import pathlib\n",
    "#temp = pathlib.PosixPath\n",
    "#pathlib.PosixPath = pathlib.WindowsPath"
   ]
  },
  {
   "cell_type": "markdown",
   "metadata": {
    "id": "GdXCPqjK39_d"
   },
   "source": [
    "## Sesame Street Muppet Classifier\n",
    "\n",
    "Is is Elmo? Cookie Monster? Snuffy? Or Zoe?"
   ]
  },
  {
   "cell_type": "code",
   "execution_count": null,
   "metadata": {
    "id": "QCR5c_As002s"
   },
   "outputs": [],
   "source": [
    "btn_upload = widgets.FileUpload()\n",
    "btn_classify = widgets.Button(description='Classify')\n",
    "out_pl = widgets.Output()\n",
    "lbl_pred = widgets.Label()\n",
    "vbox = VBox([widgets.Label('Select your muppet!'), btn_upload, out_pl])"
   ]
  },
  {
   "cell_type": "code",
   "execution_count": null,
   "metadata": {},
   "outputs": [],
   "source": [
    "learn_inf = load_learner('good.pkl', cpu=True)"
   ]
  },
  {
   "cell_type": "code",
   "execution_count": null,
   "metadata": {
    "id": "DWGYG_GG87-G"
   },
   "outputs": [],
   "source": [
    "def on_data_change(change):    \n",
    "    img = PILImage.create(btn_upload.data[-1])\n",
    "    out_pl.clear_output()\n",
    "    with out_pl: display(img.to_thumb(128,128))\n",
    "    vbox.children += (btn_classify,lbl_pred)"
   ]
  },
  {
   "cell_type": "code",
   "execution_count": null,
   "metadata": {},
   "outputs": [],
   "source": [
    "def on_classify(change):\n",
    "    lbl_pred.value = 'Thinking...'\n",
    "    img = PILImage.create(btn_upload.data[-1])\n",
    "    pred,pred_idx,probs = learn_inf.predict(img)\n",
    "    lbl_pred.value = f'Prediction: {pred}; Probability: {probs[pred_idx]:.04f}'"
   ]
  },
  {
   "cell_type": "code",
   "execution_count": null,
   "metadata": {
    "id": "f51i-8H09FkM"
   },
   "outputs": [],
   "source": [
    "btn_upload.observe(on_data_change, names=['data'])\n",
    "btn_classify.on_click(on_classify)"
   ]
  },
  {
   "cell_type": "code",
   "execution_count": null,
   "metadata": {
    "id": "dbCoLIlp88G_"
   },
   "outputs": [],
   "source": [
    "display(vbox)"
   ]
  }
 ],
 "metadata": {
  "colab": {
   "name": "muppet-webpage.ipynb",
   "provenance": []
  },
  "kernelspec": {
   "display_name": "Python 3",
   "language": "python",
   "name": "python3"
  },
  "language_info": {
   "codemirror_mode": {
    "name": "ipython",
    "version": 3
   },
   "file_extension": ".py",
   "mimetype": "text/x-python",
   "name": "python",
   "nbconvert_exporter": "python",
   "pygments_lexer": "ipython3",
   "version": "3.8.5"
  }
 },
 "nbformat": 4,
 "nbformat_minor": 1
}
